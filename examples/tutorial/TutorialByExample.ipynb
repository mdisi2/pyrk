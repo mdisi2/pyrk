{
 "cells": [
  {
   "cell_type": "markdown",
   "id": "f65ba973",
   "metadata": {},
   "source": [
    "# PyRK tutorial by Example\n"
   ]
  },
  {
   "cell_type": "markdown",
   "id": "23360767",
   "metadata": {},
   "source": [
    "##### This follow-along example is written to follow along in VScode. This tutorial also assumes the reader has no prior knowledge of reactor physics and will include some brief explanations of some of the physics."
   ]
  },
  {
   "cell_type": "markdown",
   "id": "8e5c3eeb",
   "metadata": {
    "vscode": {
     "languageId": "plaintext"
    }
   },
   "source": [
    "## Requirements and Instilation"
   ]
  },
  {
   "cell_type": "markdown",
   "id": "ccae2746",
   "metadata": {},
   "source": [
    "#### i)   Cloning PyRK in VScode"
   ]
  },
  {
   "cell_type": "markdown",
   "id": "59c3ab8e",
   "metadata": {},
   "source": [
    "\n",
    "To clone the official PyRK repository:\n",
    "\n",
    "1. `Ctrl+P` to open the **Command Palette** in VS Code\n",
    "2. Run the line:\n",
    "\n",
    "   ```bash\n",
    "   git clone https://github.com/pyrk/pyrk.git\n",
    "\n",
    "If you wish to use your own fork, change the link."
   ]
  },
  {
   "cell_type": "markdown",
   "id": "65d501c4",
   "metadata": {
    "vscode": {
     "languageId": "plaintext"
    }
   },
   "source": [
    "### ii) Installing required libraries"
   ]
  },
  {
   "cell_type": "markdown",
   "id": "9e668f3b",
   "metadata": {},
   "source": [
    "\n",
    "PyRK requires some additional Python libraries to run simulations. A list of these libraries has been included in the source code. Once PyRK is cloned, open a new terminal and run this command in the terminal to install the required libraries:\n",
    "\n",
    "```bash\n",
    "pip install -r requirements.txt"
   ]
  },
  {
   "cell_type": "markdown",
   "id": "e8d5c98c",
   "metadata": {},
   "source": [
    "### iii)  Installing PyRK"
   ]
  },
  {
   "cell_type": "markdown",
   "id": "4302c089",
   "metadata": {},
   "source": [
    "To install PyRK, run this line in the terminal:\n",
    "\n",
    "```bash\n",
    "python setup.py install \n",
    "```\n",
    "\n",
    "You should be ready to start using PyRK!   "
   ]
  },
  {
   "cell_type": "markdown",
   "id": "6df26468",
   "metadata": {},
   "source": [
    "## Example Simulations"
   ]
  },
  {
   "cell_type": "markdown",
   "id": "252964c4",
   "metadata": {},
   "source": [
    "PyRK runs simulations by passing two arguments into a driver script, the input file and the output folder location. PyRK comes with several examples, so it is recommended to run some of the examples before your own to check if PyRK is installed correctly and to get a sense of how PyRK works. \n",
    "\n",
    "To run the 'default' example, run this line in the terminal:\n",
    "\n",
    "```bash\n",
    "python .\\pyrk\\driver.py --infile=examples\\default\\input.py --plotdir=out\\default\n",
    "\n",
    "python ./pyrk/driver.py --infile=examples/default/input.py --plotdir=out/default\n",
    "```\n",
    "- '.\\pyrk\\driver.py' locates and runs the driver.\n",
    "- 'infile=examples...' locates the input (.py file) containing the reactor parameters.\n",
    "- '--plotdir=out...' will create a folder to save the output data.\n",
    "\n",
    "Change each of these components to your desired specifications when running your own simulations. The default example should only take a minute to complete."
   ]
  },
  {
   "cell_type": "markdown",
   "id": "510a81d6",
   "metadata": {
    "vscode": {
     "languageId": "plaintext"
    }
   },
   "source": [
    "## Tutorial By Example "
   ]
  },
  {
   "cell_type": "markdown",
   "id": "71c500cc",
   "metadata": {},
   "source": [
    "This tutorial will follow along with the PBFHR examples, modeled after the Pebble-Bed **F**luoride salt \n",
    "cooled **H**igh temperature **R**eactor proposed by the [University of California, Berkely](https://fhr.nuc.berkeley.edu/pb-fhr-technology/)."
   ]
  }
 ],
 "metadata": {
  "language_info": {
   "name": "python"
  }
 },
 "nbformat": 4,
 "nbformat_minor": 5
}
